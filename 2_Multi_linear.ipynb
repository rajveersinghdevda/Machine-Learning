{
  "nbformat": 4,
  "nbformat_minor": 0,
  "metadata": {
    "colab": {
      "provenance": [],
      "mount_file_id": "1vgVnF1B7Vmn9qF9OV7CxUswdfmBdOdFK",
      "authorship_tag": "ABX9TyP8DdwBDo+IiNxUd0wrM0WX",
      "include_colab_link": true
    },
    "kernelspec": {
      "name": "python3",
      "display_name": "Python 3"
    },
    "language_info": {
      "name": "python"
    }
  },
  "cells": [
    {
      "cell_type": "markdown",
      "metadata": {
        "id": "view-in-github",
        "colab_type": "text"
      },
      "source": [
        "<a href=\"https://colab.research.google.com/github/rajveersinghdevda/Machine-Learning/blob/main/2_Multi_linear.ipynb\" target=\"_parent\"><img src=\"https://colab.research.google.com/assets/colab-badge.svg\" alt=\"Open In Colab\"/></a>"
      ]
    },
    {
      "cell_type": "code",
      "source": [
        "import pandas as pd\n",
        "import numpy as np\n",
        "from sklearn.linear_model import LinearRegression\n",
        "from sklearn.model_selection import train_test_split\n",
        "import statsmodels.api as sm"
      ],
      "metadata": {
        "id": "bfZlWK5HfNrS"
      },
      "execution_count": null,
      "outputs": []
    },
    {
      "cell_type": "code",
      "source": [
        "from google.colab import drive\n",
        "drive.mount('/content/drive')"
      ],
      "metadata": {
        "colab": {
          "base_uri": "https://localhost:8080/"
        },
        "id": "Hb_p38zqfQN0",
        "outputId": "f6e39847-53bd-4a72-da0d-683edcbff8e2"
      },
      "execution_count": null,
      "outputs": [
        {
          "output_type": "stream",
          "name": "stdout",
          "text": [
            "Drive already mounted at /content/drive; to attempt to forcibly remount, call drive.mount(\"/content/drive\", force_remount=True).\n"
          ]
        }
      ]
    },
    {
      "cell_type": "code",
      "source": [
        "file_path = '/content/drive/MyDrive/Dataset_rv/processed.cleveland.data'\n",
        "df = pd.read_csv(file_path, header=None)\n",
        "df.columns = ['age', 'sex', 'cp', 'trestbps', 'chol', 'fbs', 'restecg', 'thalach', 'exang', 'oldpeak', 'slope', 'ca', 'thal', 'num']\n"
      ],
      "metadata": {
        "id": "rf4IPH12fWB5"
      },
      "execution_count": null,
      "outputs": []
    },
    {
      "cell_type": "code",
      "source": [
        "df = df.replace('?', np.nan)\n",
        "for col in ['ca', 'thal']:\n",
        "  df[col] = pd.to_numeric(df[col], errors='coerce')\n",
        "  df[col].fillna(df[col].mean(), inplace=True)\n"
      ],
      "metadata": {
        "id": "GNAplYhqfW9I"
      },
      "execution_count": null,
      "outputs": []
    },
    {
      "cell_type": "code",
      "source": [
        "X = df[['age', 'sex', 'cp', 'trestbps', 'chol', 'fbs', 'restecg', 'thalach', 'exang', 'oldpeak', 'slope', 'ca', 'thal']]\n",
        "y = df['num']\n"
      ],
      "metadata": {
        "id": "N_iQJixRfakE"
      },
      "execution_count": null,
      "outputs": []
    },
    {
      "cell_type": "code",
      "source": [
        "X_train, X_test, y_train, y_test = train_test_split(X, y, test_size=0.2, random_state=42)\n"
      ],
      "metadata": {
        "id": "wzfPJxfCfdb5"
      },
      "execution_count": null,
      "outputs": []
    },
    {
      "cell_type": "code",
      "source": [
        "model = LinearRegression()\n",
        "model.fit(X_train, y_train)\n"
      ],
      "metadata": {
        "id": "NF4sff4Sfk7f"
      },
      "execution_count": null,
      "outputs": []
    },
    {
      "cell_type": "code",
      "source": [
        "print(\"Coefficients:\", model.coef_)\n",
        "print(\"Intercept:\", model.intercept_)"
      ],
      "metadata": {
        "colab": {
          "base_uri": "https://localhost:8080/"
        },
        "id": "tEDxuc4IfooK",
        "outputId": "934a7f51-a639-4689-c701-5f9e7692213d"
      },
      "execution_count": null,
      "outputs": [
        {
          "output_type": "stream",
          "name": "stdout",
          "text": [
            "Coefficients: [-0.00595963  0.2203485   0.21778198  0.0051293   0.00097626  0.01390767\n",
            "  0.08256561 -0.00394474  0.26427221  0.19558677  0.1612509   0.42429947\n",
            "  0.115767  ]\n",
            "Intercept: -1.3719061816434017\n"
          ]
        }
      ]
    },
    {
      "cell_type": "code",
      "source": [
        "X_train_sm = sm.add_constant(X_train)\n",
        "model_sm = sm.OLS(y_train, X_train_sm).fit()\n",
        "print(model_sm.summary())"
      ],
      "metadata": {
        "colab": {
          "base_uri": "https://localhost:8080/"
        },
        "id": "6-vuCkFIfvYd",
        "outputId": "5b1f4e9f-490b-491d-e831-57dae54587b1"
      },
      "execution_count": null,
      "outputs": [
        {
          "output_type": "stream",
          "name": "stdout",
          "text": [
            "                            OLS Regression Results                            \n",
            "==============================================================================\n",
            "Dep. Variable:                    num   R-squared:                       0.560\n",
            "Model:                            OLS   Adj. R-squared:                  0.535\n",
            "Method:                 Least Squares   F-statistic:                     22.32\n",
            "Date:                Sat, 16 Nov 2024   Prob (F-statistic):           8.12e-34\n",
            "Time:                        05:44:46   Log-Likelihood:                -289.54\n",
            "No. Observations:                 242   AIC:                             607.1\n",
            "Df Residuals:                     228   BIC:                             655.9\n",
            "Df Model:                          13                                         \n",
            "Covariance Type:            nonrobust                                         \n",
            "==============================================================================\n",
            "                 coef    std err          t      P>|t|      [0.025      0.975]\n",
            "------------------------------------------------------------------------------\n",
            "const         -1.3719      0.851     -1.611      0.108      -3.050       0.306\n",
            "age           -0.0060      0.007     -0.820      0.413      -0.020       0.008\n",
            "sex            0.2203      0.126      1.752      0.081      -0.027       0.468\n",
            "cp             0.2178      0.062      3.495      0.001       0.095       0.341\n",
            "trestbps       0.0051      0.003      1.569      0.118      -0.001       0.012\n",
            "chol           0.0010      0.001      0.841      0.401      -0.001       0.003\n",
            "fbs            0.0139      0.161      0.087      0.931      -0.303       0.330\n",
            "restecg        0.0826      0.056      1.476      0.141      -0.028       0.193\n",
            "thalach       -0.0039      0.003     -1.304      0.194      -0.010       0.002\n",
            "exang          0.2643      0.132      2.007      0.046       0.005       0.524\n",
            "oldpeak        0.1956      0.058      3.361      0.001       0.081       0.310\n",
            "slope          0.1613      0.109      1.485      0.139      -0.053       0.375\n",
            "ca             0.4243      0.069      6.130      0.000       0.288       0.561\n",
            "thal           0.1158      0.034      3.435      0.001       0.049       0.182\n",
            "==============================================================================\n",
            "Omnibus:                       19.842   Durbin-Watson:                   2.020\n",
            "Prob(Omnibus):                  0.000   Jarque-Bera (JB):               23.707\n",
            "Skew:                           0.628   Prob(JB):                     7.11e-06\n",
            "Kurtosis:                       3.880   Cond. No.                     5.21e+03\n",
            "==============================================================================\n",
            "\n",
            "Notes:\n",
            "[1] Standard Errors assume that the covariance matrix of the errors is correctly specified.\n",
            "[2] The condition number is large, 5.21e+03. This might indicate that there are\n",
            "strong multicollinearity or other numerical problems.\n"
          ]
        }
      ]
    },
    {
      "cell_type": "code",
      "source": [],
      "metadata": {
        "id": "UjI8ID4wfUp_"
      },
      "execution_count": null,
      "outputs": []
    }
  ]
}