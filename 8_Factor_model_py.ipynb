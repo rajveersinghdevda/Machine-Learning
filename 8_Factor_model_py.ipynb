{
  "nbformat": 4,
  "nbformat_minor": 0,
  "metadata": {
    "colab": {
      "provenance": [],
      "mount_file_id": "https://gist.github.com/rajveersinghdevda/c47f6d9d22ab5d26d04feb6e7b1de9e5#file-untitled6-ipynb",
      "authorship_tag": "ABX9TyNoMLn+fmbFVm/LaJGXebEQ",
      "include_colab_link": true
    },
    "kernelspec": {
      "name": "python3",
      "display_name": "Python 3"
    },
    "language_info": {
      "name": "python"
    }
  },
  "cells": [
    {
      "cell_type": "markdown",
      "metadata": {
        "id": "view-in-github",
        "colab_type": "text"
      },
      "source": [
        "<a href=\"https://colab.research.google.com/github/rajveersinghdevda/Machine-Learning/blob/main/8_Factor_model_py.ipynb\" target=\"_parent\"><img src=\"https://colab.research.google.com/assets/colab-badge.svg\" alt=\"Open In Colab\"/></a>"
      ]
    },
    {
      "cell_type": "code",
      "source": [
        "import pandas as pd\n",
        "from sklearn.preprocessing import StandardScaler\n",
        "from sklearn.decomposition import FactorAnalysis\n",
        "import matplotlib.pyplot as plt"
      ],
      "metadata": {
        "id": "1zjxDXmVMLS4"
      },
      "execution_count": 3,
      "outputs": []
    },
    {
      "cell_type": "code",
      "source": [
        "from google.colab import drive\n",
        "drive.mount('/content/drive')\n"
      ],
      "metadata": {
        "id": "AHV_6IRZMM3G"
      },
      "execution_count": null,
      "outputs": []
    },
    {
      "cell_type": "code",
      "source": [
        "data = pd.read_csv('/content/drive/MyDrive/Dataset_rv/processed.cleveland.data', header=None)\n",
        "column_names = [\"age\", \"sex\", \"cp\", \"trestbps\", \"chol\", \"fbs\", \"restecg\", \"thalach\", \"exang\", \"oldpeak\", \"slope\", \"ca\", \"thal\", \"num\"]\n",
        "data.columns = column_names"
      ],
      "metadata": {
        "id": "FlEC6iP7MQ4u"
      },
      "execution_count": 5,
      "outputs": []
    },
    {
      "cell_type": "code",
      "source": [
        "data = data.replace('?', pd.NA)\n",
        "data = data.dropna()\n",
        "X = data.drop('num', axis=1)\n",
        "X = X.apply(pd.to_numeric)\n"
      ],
      "metadata": {
        "id": "DDvGhxcNMS9S"
      },
      "execution_count": 6,
      "outputs": []
    },
    {
      "cell_type": "code",
      "source": [
        "scaler = StandardScaler()\n",
        "X_scaled = scaler.fit_transform(X)\n"
      ],
      "metadata": {
        "id": "pjtUiM3JMTAd"
      },
      "execution_count": 7,
      "outputs": []
    },
    {
      "cell_type": "code",
      "source": [
        "n_factors = 3\n",
        "factor_analysis = FactorAnalysis(n_components=n_factors, random_state=42)\n",
        "factor_analysis.fit(X_scaled)\n"
      ],
      "metadata": {
        "id": "Za9dDYvQMWaF"
      },
      "execution_count": null,
      "outputs": []
    },
    {
      "cell_type": "code",
      "source": [
        "factor_loadings = factor_analysis.components_"
      ],
      "metadata": {
        "id": "aGQ4UxIfMWdO"
      },
      "execution_count": 9,
      "outputs": []
    },
    {
      "cell_type": "code",
      "source": [
        "print(\"Factor Loadings:\")\n",
        "print(factor_loadings)"
      ],
      "metadata": {
        "id": "lGYcCEz4MWgC",
        "outputId": "01de81a7-5f0f-4dbc-9f04-b9d0995ae9a7",
        "colab": {
          "base_uri": "https://localhost:8080/"
        }
      },
      "execution_count": 10,
      "outputs": [
        {
          "output_type": "stream",
          "name": "stdout",
          "text": [
            "Factor Loadings:\n",
            "[[ 0.35730551  0.10104747  0.29398184  0.20483002  0.0516257   0.07773827\n",
            "   0.17855929 -0.55462167  0.39638032  0.68248636  0.85774464  0.30205492\n",
            "   0.43826401]\n",
            " [-0.66210083  0.04277286 -0.18821217 -0.24058174 -0.24852235 -0.13836977\n",
            "  -0.12650919  0.27814184 -0.12029838  0.00604226  0.27948587 -0.43479619\n",
            "  -0.12851962]\n",
            " [ 0.26361301 -0.46759149 -0.31237627  0.15689877  0.15168324  0.06496594\n",
            "   0.08559632  0.11648897 -0.36000972 -0.08194557  0.13775566 -0.13153759\n",
            "  -0.47822035]]\n"
          ]
        }
      ]
    },
    {
      "cell_type": "code",
      "source": [
        "factor_scores = factor_analysis.transform(X_scaled)"
      ],
      "metadata": {
        "id": "I97L6O9dMdit"
      },
      "execution_count": 11,
      "outputs": []
    }
  ]
}