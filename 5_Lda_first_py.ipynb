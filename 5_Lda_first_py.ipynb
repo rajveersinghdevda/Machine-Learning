{
  "nbformat": 4,
  "nbformat_minor": 0,
  "metadata": {
    "colab": {
      "provenance": [],
      "mount_file_id": "https://gist.github.com/rajveersinghdevda/c47f6d9d22ab5d26d04feb6e7b1de9e5#file-untitled6-ipynb",
      "authorship_tag": "ABX9TyP0CFanDl1o4ZDw2io1gwsR",
      "include_colab_link": true
    },
    "kernelspec": {
      "name": "python3",
      "display_name": "Python 3"
    },
    "language_info": {
      "name": "python"
    }
  },
  "cells": [
    {
      "cell_type": "markdown",
      "metadata": {
        "id": "view-in-github",
        "colab_type": "text"
      },
      "source": [
        "<a href=\"https://colab.research.google.com/github/rajveersinghdevda/Machine-Learning/blob/main/5_Lda_first_py.ipynb\" target=\"_parent\"><img src=\"https://colab.research.google.com/assets/colab-badge.svg\" alt=\"Open In Colab\"/></a>"
      ]
    },
    {
      "cell_type": "code",
      "source": [
        "import pandas as pd\n",
        "from sklearn.discriminant_analysis import LinearDiscriminantAnalysis\n",
        "import numpy as np"
      ],
      "metadata": {
        "id": "2gEOvMhZznu0"
      },
      "execution_count": null,
      "outputs": []
    },
    {
      "cell_type": "code",
      "source": [
        "from google.colab import drive\n",
        "drive.mount('/content/drive')"
      ],
      "metadata": {
        "id": "lVGzGrjtzmie"
      },
      "execution_count": null,
      "outputs": []
    },
    {
      "cell_type": "code",
      "source": [
        "file_path = '/content/drive/MyDrive/Dataset_rv/processed.cleveland.data'\n",
        "\n",
        "column_names = [\"age\", \"sex\", \"cp\", \"trestbps\", \"chol\", \"fbs\", \"restecg\", \"thalach\", \"exang\", \"oldpeak\", \"slope\", \"ca\", \"thal\", \"target\"]\n",
        "df = pd.read_csv(file_path, header=None, names=column_names)"
      ],
      "metadata": {
        "id": "Pv5KpH9Zzzi2"
      },
      "execution_count": null,
      "outputs": []
    },
    {
      "cell_type": "code",
      "source": [
        "df = df.replace('?', np.nan)\n",
        "for col in df.columns:\n",
        "    if df[col].dtype == 'object':\n",
        "        df[col] = pd.to_numeric(df[col], errors='coerce')\n",
        "\n",
        "    df[col].fillna(df[col].mean(), inplace=True)"
      ],
      "metadata": {
        "id": "ffmmctYW0DXY"
      },
      "execution_count": null,
      "outputs": []
    },
    {
      "cell_type": "code",
      "source": [
        "X = df.drop('target', axis=1)\n",
        "y = df['target']\n",
        "\n",
        "lda = LinearDiscriminantAnalysis(n_components=1)\n",
        "X_lda = lda.fit_transform(X, y)\n",
        "\n",
        "first_direction = lda.scalings_[:, 0]\n",
        "print(\"First Direction (First Axis):\", first_direction)"
      ],
      "metadata": {
        "id": "6xZYoZLR0YWk",
        "outputId": "363b7bab-1913-471d-b183-05546295b6db",
        "colab": {
          "base_uri": "https://localhost:8080/"
        }
      },
      "execution_count": null,
      "outputs": [
        {
          "output_type": "stream",
          "name": "stdout",
          "text": [
            "First Direction (First Axis): [-0.01107394  0.42217173  0.3644808   0.0072744   0.00108044 -0.08134051\n",
            "  0.12156591 -0.01065344  0.53314867  0.26273876  0.26462518  0.67605781\n",
            "  0.23973413]\n"
          ]
        }
      ]
    }
  ]
}