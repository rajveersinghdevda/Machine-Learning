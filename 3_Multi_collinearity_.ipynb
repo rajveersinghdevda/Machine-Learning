{
  "nbformat": 4,
  "nbformat_minor": 0,
  "metadata": {
    "colab": {
      "provenance": [],
      "mount_file_id": "11k3PsJpYbqqkuyZva7maxEv7sgatLGpb",
      "authorship_tag": "ABX9TyMJmYzCk3SFZrrJsOajNjVe",
      "include_colab_link": true
    },
    "kernelspec": {
      "name": "python3",
      "display_name": "Python 3"
    },
    "language_info": {
      "name": "python"
    }
  },
  "cells": [
    {
      "cell_type": "markdown",
      "metadata": {
        "id": "view-in-github",
        "colab_type": "text"
      },
      "source": [
        "<a href=\"https://colab.research.google.com/github/rajveersinghdevda/Machine-Learning/blob/main/3_Multi_collinearity_.ipynb\" target=\"_parent\"><img src=\"https://colab.research.google.com/assets/colab-badge.svg\" alt=\"Open In Colab\"/></a>"
      ]
    },
    {
      "cell_type": "code",
      "source": [
        "import pandas as pd\n",
        "import numpy as np\n",
        "from statsmodels.stats.outliers_influence import variance_inflation_factor"
      ],
      "metadata": {
        "id": "eF_4I7-aZ8e-"
      },
      "execution_count": null,
      "outputs": []
    },
    {
      "cell_type": "code",
      "source": [
        "from google.colab import drive\n",
        "drive.mount('/content/drive')"
      ],
      "metadata": {
        "colab": {
          "base_uri": "https://localhost:8080/"
        },
        "id": "C2NnMDgGaAZl",
        "outputId": "71a3ff66-e7b6-40c2-8cdc-290943703415"
      },
      "execution_count": null,
      "outputs": [
        {
          "output_type": "stream",
          "name": "stdout",
          "text": [
            "Drive already mounted at /content/drive; to attempt to forcibly remount, call drive.mount(\"/content/drive\", force_remount=True).\n"
          ]
        }
      ]
    },
    {
      "cell_type": "code",
      "source": [
        "file_path = '/content/drive/MyDrive/Dataset_rv/processed.cleveland.data'\n",
        "df = pd.read_csv(file_path, header=None)\n",
        "\n",
        "df.columns = ['age', 'sex', 'cp', 'trestbps', 'chol', 'fbs', 'restecg', 'thalach', 'exang', 'oldpeak', 'slope', 'ca', 'thal', 'target']\n"
      ],
      "metadata": {
        "id": "WL8hJW33aJao"
      },
      "execution_count": null,
      "outputs": []
    },
    {
      "cell_type": "code",
      "source": [
        "numerical_features = ['age', 'trestbps', 'chol', 'thalach', 'oldpeak']\n",
        "df_numerical = df[numerical_features]\n"
      ],
      "metadata": {
        "id": "mvRdlidFaYFH"
      },
      "execution_count": null,
      "outputs": []
    },
    {
      "cell_type": "code",
      "source": [
        "vif_data = pd.DataFrame()\n",
        "vif_data[\"feature\"] = df_numerical.columns\n",
        "vif_data[\"VIF\"] = [variance_inflation_factor(df_numerical.values, i) for i in range(len(df_numerical.columns))]\n"
      ],
      "metadata": {
        "id": "xPModLUwabxk"
      },
      "execution_count": null,
      "outputs": []
    },
    {
      "cell_type": "code",
      "source": [
        "print(vif_data)"
      ],
      "metadata": {
        "colab": {
          "base_uri": "https://localhost:8080/"
        },
        "id": "JIYn8SA7ahoz",
        "outputId": "e868a7b0-8932-4114-aee5-34996bdb3b87"
      },
      "execution_count": null,
      "outputs": [
        {
          "output_type": "stream",
          "name": "stdout",
          "text": [
            "    feature        VIF\n",
            "0       age  36.685632\n",
            "1  trestbps  55.971579\n",
            "2      chol  24.354973\n",
            "3   thalach  29.326738\n",
            "4   oldpeak   2.084119\n"
          ]
        }
      ]
    }
  ]
}